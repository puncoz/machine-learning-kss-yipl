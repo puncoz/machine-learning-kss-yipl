{
 "cells": [
  {
   "cell_type": "markdown",
   "metadata": {},
   "source": [
    "# Machine Learning"
   ]
  },
  {
   "attachments": {},
   "cell_type": "markdown",
   "metadata": {},
   "source": [
    "### Linear Regression\n",
    "- Regression to predict linear / continuous output\n",
    "- Use for the case where we want to predict some continuous output\n"
   ]
  },
  {
   "cell_type": "markdown",
   "metadata": {},
   "source": [
    "### Logistic Regression\n",
    "- Use for the classification / categorical problems, such as whether one get job or not. OR, whether customer buy some goods or not etc."
   ]
  },
  {
   "cell_type": "markdown",
   "metadata": {},
   "source": [
    "### Decision Tree\n",
    "![decision-tree.png](./decision-tree.png)"
   ]
  },
  {
   "attachments": {},
   "cell_type": "markdown",
   "metadata": {},
   "source": [
    "### Random Forest\n",
    "![image.png](random-forest.png)"
   ]
  },
  {
   "cell_type": "markdown",
   "metadata": {},
   "source": [
    "### Naive Bayes\n",
    "- Naive Bayes is based on the Bayes Theorem that is used to solve classification problems by following a probabilistics approach.\n",
    "- It is based on the idea that the predictor variables in a Machine learning model are independent of each other.\n",
    "\n",
    "$$\n",
    "P(A|B) = \\frac{P(B|A)P(A)}{P(B)} \n",
    "$$\n",
    "\n",
    "where, \n",
    "- $P(A|B)$: Conditional probability of event A occurring, given the event B\n",
    "- $P(A)$: Probability of event A occurring\n",
    "- $P(B)$: Probability of event A occurring\n",
    "- $P(B|A)$: Conditional probability of event B occurring, given the event A"
   ]
  },
  {
   "attachments": {},
   "cell_type": "markdown",
   "metadata": {},
   "source": [
    "### K Nearest Neighbour (KNN)\n",
    "- It is a supervised learning algorithm that classifies a new data point into the target class, depending on the features of it's neighbouring data points\n",
    "\n",
    "![image.png](knn.png)"
   ]
  },
  {
   "attachments": {},
   "cell_type": "markdown",
   "metadata": {},
   "source": [
    "### Support Vector Machine (SVM)\n",
    "- It is a simple supervised classification method that seperates data using hyperplanes.\n",
    "![image.png](svm.png)"
   ]
  },
  {
   "cell_type": "markdown",
   "metadata": {},
   "source": [
    "### Principal Component Analysis (PCA) / SVD\n",
    "- This is one of the basic dimension reduction algorithms that allows to reduce the dimension of the data, losing the least amount of information.\n",
    "- Uses the concept of matrix multiplication and the calculations of eigenvectors and eigenvalues."
   ]
  },
  {
   "attachments": {},
   "cell_type": "markdown",
   "metadata": {},
   "source": [
    "# Deep Learning\n",
    "\n",
    "Deep learning is a collection of statistical machine learning techniques used to learn feature hiearchies based on the concept of artificial neural network\n",
    "\n",
    "![image.png](deep-learning.png)"
   ]
  },
  {
   "cell_type": "markdown",
   "metadata": {},
   "source": [
    "![neural network](neural-network.gif)"
   ]
  },
  {
   "cell_type": "markdown",
   "metadata": {},
   "source": [
    "# Perceptron"
   ]
  },
  {
   "cell_type": "markdown",
   "metadata": {},
   "source": [
    "- A perceptron is the basic building block for artificial neural network (ANN)\n",
    "- A multi-layer perceptron is called Neural Networks."
   ]
  },
  {
   "attachments": {},
   "cell_type": "markdown",
   "metadata": {},
   "source": [
    "![image.png](perceptron.png)"
   ]
  },
  {
   "attachments": {},
   "cell_type": "markdown",
   "metadata": {},
   "source": [
    "![image.png](neurons.png)"
   ]
  },
  {
   "attachments": {},
   "cell_type": "markdown",
   "metadata": {},
   "source": [
    "![image.png](perceptron2.png)"
   ]
  }
 ],
 "metadata": {
  "kernelspec": {
   "display_name": "Python 3",
   "language": "python",
   "name": "python3"
  },
  "language_info": {
   "codemirror_mode": {
    "name": "ipython",
    "version": 3
   },
   "file_extension": ".py",
   "mimetype": "text/x-python",
   "name": "python",
   "nbconvert_exporter": "python",
   "pygments_lexer": "ipython3",
   "version": "3.6.8"
  }
 },
 "nbformat": 4,
 "nbformat_minor": 2
}
