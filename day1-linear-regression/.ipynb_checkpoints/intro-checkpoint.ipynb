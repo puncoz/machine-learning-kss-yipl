{
 "cells": [
  {
   "cell_type": "markdown",
   "metadata": {},
   "source": [
    "# What is Machine Learning?"
   ]
  },
  {
   "attachments": {},
   "cell_type": "markdown",
   "metadata": {},
   "source": [
    "![wine-beer](./images/wine-beer.webp)"
   ]
  },
  {
   "cell_type": "markdown",
   "metadata": {},
   "source": [
    "![Rock Shandy](./images/rock-shandy-1.jpg)"
   ]
  },
  {
   "cell_type": "markdown",
   "metadata": {},
   "source": [
    "![Rock Shandy](./images/rock-shandy-2.jpg)"
   ]
  },
  {
   "cell_type": "markdown",
   "metadata": {},
   "source": [
    "Are we able to recognized these baverages? Our intelligences are based upon our past experiences, so does machine."
   ]
  },
  {
   "cell_type": "markdown",
   "metadata": {},
   "source": [
    "![machine learning](machine-learning.png)"
   ]
  },
  {
   "cell_type": "markdown",
   "metadata": {},
   "source": [
    "![ml](./images/ml.png)"
   ]
  },
  {
   "cell_type": "markdown",
   "metadata": {},
   "source": [
    "## AI vs ML vs DL vs DS"
   ]
  },
  {
   "cell_type": "markdown",
   "metadata": {},
   "source": [
    "![ml vs ai](./images/ml-vs-ai.png)"
   ]
  },
  {
   "cell_type": "markdown",
   "metadata": {},
   "source": [
    "## Types of Learning"
   ]
  },
  {
   "cell_type": "markdown",
   "metadata": {},
   "source": [
    "1. Supervised Learning\n",
    "2. Unsupervised Learning\n",
    "3. Reinforcement Learning (Reward based learning)"
   ]
  },
  {
   "cell_type": "markdown",
   "metadata": {},
   "source": [
    "![supervised_learning.png](./images/supervised_learning.png)"
   ]
  },
  {
   "cell_type": "markdown",
   "metadata": {},
   "source": [
    "![1_6hfFWPITJxbtw4ztoC1YeA.png](./images/1_6hfFWPITJxbtw4ztoC1YeA.png)"
   ]
  },
  {
   "cell_type": "markdown",
   "metadata": {},
   "source": [
    "![reinforcement-learning-fig1-700.jpg](./images/reinforcement-learning-fig1-700.jpg)"
   ]
  },
  {
   "cell_type": "markdown",
   "metadata": {},
   "source": [
    "![quiz.png](./images/quiz.png)"
   ]
  },
  {
   "cell_type": "markdown",
   "metadata": {},
   "source": [
    "Scenario 1: Facebook recognizes your friend in a picture from an album of tagged photographs\n",
    "Explanation: It is supervised learning. Here Facebook is using tagged photos to recognize the person. Therefore, the tagged photos become the labels of the pictures and we know that when the machine is learning from labelled data, it is supervised learning.\n",
    "\n",
    "Scenario 2: Recommending new songs based on someone’s past music choices\n",
    "Explanation: It is supervised learning. The model is training a classifier on pre-existing labels (genres of songs).\n",
    "This is what Netflix, Pandora, and Spotify do all the time, they collect the songs/movies that you like already, evaluate the features based on your likes/dislikes and then recommend new movies/songs based on similar features.\n",
    "\n",
    "Scenario 3: Analyze bank data for suspicious looking transactions and flag the fraud transactions\n",
    "Explanation: It is unsupervised learning. In this case, the suspicious transactions are not defined, hence there are no labels of \"fraud\" and \"not fraud\". The model tries to identify outliers by looking at anomalous transactions and flags them as 'fraud'.﻿"
   ]
  },
  {
   "cell_type": "markdown",
   "metadata": {},
   "source": [
    "![1_ZCeOEBhvEVLmwCh7vr2RVA.png](./images/1_ZCeOEBhvEVLmwCh7vr2RVA.png)"
   ]
  },
  {
   "cell_type": "markdown",
   "metadata": {},
   "source": [
    "## Different Neural Networks"
   ]
  },
  {
   "cell_type": "markdown",
   "metadata": {},
   "source": [
    "![1_cuTSPlTq0a_327iTPJyD-Q.png](./images/1_cuTSPlTq0a_327iTPJyD-Q.png)"
   ]
  },
  {
   "cell_type": "markdown",
   "metadata": {},
   "source": [
    "#### 1 Linear Regression\n",
    "#### 2 Logistic Regression\n",
    "#### 3 Machine learning process (with all steps and practical approach)\n",
    "#### 4 Image Segementation using KNN or SVM\n",
    "#### 5 Image classification (using basic deep neural network)\n",
    "#### 6 Image classification (using basic convolutional neural network)\n",
    "#### 7 Sequential Recurrent neural network (eg. LSTM) for text based problem"
   ]
  },
  {
   "cell_type": "markdown",
   "metadata": {},
   "source": [
    "### References\n",
    "\n",
    "- https://towardsdatascience.com/types-of-machine-learning-algorithms-you-should-know-953a08248861\n",
    "- https://towardsdatascience.com/the-mostly-complete-chart-of-neural-networks-explained-3fb6f2367464\n",
    "- https://www.quora.com/What-are-the-different-types-of-artificial-neural-network"
   ]
  }
 ],
 "metadata": {
  "kernelspec": {
   "display_name": "Python 3",
   "language": "python",
   "name": "python3"
  },
  "language_info": {
   "codemirror_mode": {
    "name": "ipython",
    "version": 3
   },
   "file_extension": ".py",
   "mimetype": "text/x-python",
   "name": "python",
   "nbconvert_exporter": "python",
   "pygments_lexer": "ipython3",
   "version": "3.6.6"
  }
 },
 "nbformat": 4,
 "nbformat_minor": 2
}
