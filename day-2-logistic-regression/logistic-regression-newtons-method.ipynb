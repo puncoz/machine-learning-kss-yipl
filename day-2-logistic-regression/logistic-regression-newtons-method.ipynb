{
 "cells": [
  {
   "cell_type": "markdown",
   "metadata": {},
   "source": [
    "# Logistic Regression with Newton's Method to predict if someone has diabetes or not"
   ]
  },
  {
   "cell_type": "markdown",
   "metadata": {},
   "source": [
    "### Importing Dependencies"
   ]
  },
  {
   "cell_type": "code",
   "execution_count": 1,
   "metadata": {},
   "outputs": [],
   "source": [
    "# Matrix Math\n",
    "import numpy as np\n",
    "\n",
    "# Data Manipulation\n",
    "import pandas as pd\n",
    "\n",
    "# Matrix data structure\n",
    "from patsy import dmatrices\n",
    "\n",
    "# for error logging\n",
    "import warnings"
   ]
  },
  {
   "cell_type": "markdown",
   "metadata": {},
   "source": [
    "### Setup: Parameters and data setup"
   ]
  },
  {
   "cell_type": "markdown",
   "metadata": {},
   "source": [
    "#### Sigmoid function\n",
    "\n",
    "$$y = \\frac{\\mathrm{1}}{\\mathrm{1} + e^{-x}}$$"
   ]
  },
  {
   "cell_type": "code",
   "execution_count": 2,
   "metadata": {},
   "outputs": [],
   "source": [
    "def sigmoid(x):\n",
    "    return 1 / (1 + np.exp(-x))"
   ]
  },
  {
   "cell_type": "markdown",
   "metadata": {},
   "source": [
    "#### Data Preparation"
   ]
  },
  {
   "cell_type": "code",
   "execution_count": 3,
   "metadata": {
    "scrolled": true
   },
   "outputs": [
    {
     "data": {
      "text/html": [
       "<div>\n",
       "<style>\n",
       "    .dataframe thead tr:only-child th {\n",
       "        text-align: right;\n",
       "    }\n",
       "\n",
       "    .dataframe thead th {\n",
       "        text-align: left;\n",
       "    }\n",
       "\n",
       "    .dataframe tbody tr th {\n",
       "        vertical-align: top;\n",
       "    }\n",
       "</style>\n",
       "<table border=\"1\" class=\"dataframe\">\n",
       "  <thead>\n",
       "    <tr style=\"text-align: right;\">\n",
       "      <th></th>\n",
       "      <th>blood_pressure</th>\n",
       "      <th>height</th>\n",
       "      <th>weight</th>\n",
       "    </tr>\n",
       "  </thead>\n",
       "  <tbody>\n",
       "    <tr>\n",
       "      <th>0</th>\n",
       "      <td>-230.536312</td>\n",
       "      <td>-1.805133</td>\n",
       "      <td>-1.678592</td>\n",
       "    </tr>\n",
       "    <tr>\n",
       "      <th>1</th>\n",
       "      <td>-321.120883</td>\n",
       "      <td>-1.320743</td>\n",
       "      <td>-0.612110</td>\n",
       "    </tr>\n",
       "    <tr>\n",
       "      <th>2</th>\n",
       "      <td>0.006285</td>\n",
       "      <td>-1.689545</td>\n",
       "      <td>-1.998587</td>\n",
       "    </tr>\n",
       "    <tr>\n",
       "      <th>3</th>\n",
       "      <td>-56.335960</td>\n",
       "      <td>-0.914205</td>\n",
       "      <td>-0.962069</td>\n",
       "    </tr>\n",
       "    <tr>\n",
       "      <th>4</th>\n",
       "      <td>-0.033775</td>\n",
       "      <td>0.036999</td>\n",
       "      <td>0.166842</td>\n",
       "    </tr>\n",
       "  </tbody>\n",
       "</table>\n",
       "</div>"
      ],
      "text/plain": [
       "   blood_pressure    height    weight\n",
       "0     -230.536312 -1.805133 -1.678592\n",
       "1     -321.120883 -1.320743 -0.612110\n",
       "2        0.006285 -1.689545 -1.998587\n",
       "3      -56.335960 -0.914205 -0.962069\n",
       "4       -0.033775  0.036999  0.166842"
      ]
     },
     "execution_count": 3,
     "metadata": {},
     "output_type": "execute_result"
    }
   ],
   "source": [
    "# set the seed\n",
    "np.random.seed(0)\n",
    "\n",
    "# Convergance tolerance\n",
    "tol = 1e-8\n",
    "\n",
    "# Max iterations\n",
    "max_iterations = 20\n",
    "\n",
    "# data creation settings\n",
    "r = 0.95 # covariance between x and z\n",
    "n = 1000 # no of observations\n",
    "sigma = 1 # variance of noise (i.e. how spread our data is)\n",
    "\n",
    "# Model settings\n",
    "beta_height, beta_weight, beta_blood_pressure = -4, 9, 1 # true beta coefficients\n",
    "var_height, var_weight, var_blood_pressure = 1, 1, 4 # variances of inputs\n",
    "\n",
    "# the model\n",
    "formula = 'y ~ height + weight + blood_pressure + np.exp(height) + I(blood_pressure**2 + weight)'\n",
    "\n",
    "# Data generation\n",
    "# Keeping height and weight closly related\n",
    "height, weight = np.random.multivariate_normal([0,0], [[var_height, r],[r, var_weight]], n).T\n",
    "# blood pressure\n",
    "blood_pressure = np.random.normal(0, var_blood_pressure, n)**3\n",
    "\n",
    "# Creating dataframe\n",
    "df = pd.DataFrame({'height': height, 'weight': weight, 'blood_pressure': blood_pressure})\n",
    "\n",
    "df.head()\n"
   ]
  },
  {
   "cell_type": "markdown",
   "metadata": {},
   "source": [
    "#### Log odds or Logits of the independent variables\n",
    "\n",
    "for,\n",
    "\n",
    "$$ \\beta_{0} + \\beta_1 x_1 + \\beta_1 x_1 + \\dots + \\beta_n x_n $$\n",
    "\n",
    "General Model,\n",
    "\n",
    "$$ logit(P_{disease}) = \\log{\\bigg(\\frac{P_{disease}}{1 - P_{disease}}\\bigg)} = \\beta_{0} + \\beta_1 x_1 + \\beta_1 x_1 + \\dots + \\beta_n x_n $$\n",
    "\n",
    "logistics function:\n",
    "\n",
    "$$ \\operatorname{Pr} = \\frac{\\exp(\\beta_{0} + \\beta_{1} x_1 + \\beta_{2} x_2 + \\dots + \\beta_{n} x_n)} {1 + \\exp(\\beta_{0} + \\beta_{1} x_1 + \\beta_{2} x_2 + \\dots + \\beta_{n} x_n)} \\label{eq:glm1} $$"
   ]
  },
  {
   "cell_type": "code",
   "execution_count": 4,
   "metadata": {},
   "outputs": [
    {
     "name": "stderr",
     "output_type": "stream",
     "text": [
      "/opt/anaconda/lib/python3.6/site-packages/ipykernel_launcher.py:2: RuntimeWarning: overflow encountered in exp\n",
      "  \n"
     ]
    },
    {
     "data": {
      "text/html": [
       "<div>\n",
       "<style>\n",
       "    .dataframe thead tr:only-child th {\n",
       "        text-align: right;\n",
       "    }\n",
       "\n",
       "    .dataframe thead th {\n",
       "        text-align: left;\n",
       "    }\n",
       "\n",
       "    .dataframe tbody tr th {\n",
       "        vertical-align: top;\n",
       "    }\n",
       "</style>\n",
       "<table border=\"1\" class=\"dataframe\">\n",
       "  <thead>\n",
       "    <tr style=\"text-align: right;\">\n",
       "      <th></th>\n",
       "      <th>blood_pressure</th>\n",
       "      <th>height</th>\n",
       "      <th>weight</th>\n",
       "      <th>log_odds</th>\n",
       "    </tr>\n",
       "  </thead>\n",
       "  <tbody>\n",
       "    <tr>\n",
       "      <th>0</th>\n",
       "      <td>-230.536312</td>\n",
       "      <td>-1.805133</td>\n",
       "      <td>-1.678592</td>\n",
       "      <td>1.399942e-103</td>\n",
       "    </tr>\n",
       "    <tr>\n",
       "      <th>1</th>\n",
       "      <td>-321.120883</td>\n",
       "      <td>-1.320743</td>\n",
       "      <td>-0.612110</td>\n",
       "      <td>4.873115e-140</td>\n",
       "    </tr>\n",
       "    <tr>\n",
       "      <th>2</th>\n",
       "      <td>0.006285</td>\n",
       "      <td>-1.689545</td>\n",
       "      <td>-1.998587</td>\n",
       "      <td>1.191969e-05</td>\n",
       "    </tr>\n",
       "    <tr>\n",
       "      <th>3</th>\n",
       "      <td>-56.335960</td>\n",
       "      <td>-0.914205</td>\n",
       "      <td>-0.962069</td>\n",
       "      <td>2.955508e-27</td>\n",
       "    </tr>\n",
       "    <tr>\n",
       "      <th>4</th>\n",
       "      <td>-0.033775</td>\n",
       "      <td>0.036999</td>\n",
       "      <td>0.166842</td>\n",
       "      <td>5.272102e-01</td>\n",
       "    </tr>\n",
       "  </tbody>\n",
       "</table>\n",
       "</div>"
      ],
      "text/plain": [
       "   blood_pressure    height    weight       log_odds\n",
       "0     -230.536312 -1.805133 -1.678592  1.399942e-103\n",
       "1     -321.120883 -1.320743 -0.612110  4.873115e-140\n",
       "2        0.006285 -1.689545 -1.998587   1.191969e-05\n",
       "3      -56.335960 -0.914205 -0.962069   2.955508e-27\n",
       "4       -0.033775  0.036999  0.166842   5.272102e-01"
      ]
     },
     "execution_count": 4,
     "metadata": {},
     "output_type": "execute_result"
    }
   ],
   "source": [
    "# Computing log odds of 3 independent variable\n",
    "df['log_odds'] = sigmoid(sigma*np.random.normal(0,1,n) + df[['height', 'weight', 'blood_pressure']].dot([beta_height, beta_weight, beta_blood_pressure]))\n",
    "\n",
    "df.head()"
   ]
  },
  {
   "cell_type": "code",
   "execution_count": 5,
   "metadata": {},
   "outputs": [
    {
     "data": {
      "text/html": [
       "<div>\n",
       "<style>\n",
       "    .dataframe thead tr:only-child th {\n",
       "        text-align: right;\n",
       "    }\n",
       "\n",
       "    .dataframe thead th {\n",
       "        text-align: left;\n",
       "    }\n",
       "\n",
       "    .dataframe tbody tr th {\n",
       "        vertical-align: top;\n",
       "    }\n",
       "</style>\n",
       "<table border=\"1\" class=\"dataframe\">\n",
       "  <thead>\n",
       "    <tr style=\"text-align: right;\">\n",
       "      <th></th>\n",
       "      <th>blood_pressure</th>\n",
       "      <th>height</th>\n",
       "      <th>weight</th>\n",
       "      <th>log_odds</th>\n",
       "      <th>y</th>\n",
       "    </tr>\n",
       "  </thead>\n",
       "  <tbody>\n",
       "    <tr>\n",
       "      <th>0</th>\n",
       "      <td>-230.536312</td>\n",
       "      <td>-1.805133</td>\n",
       "      <td>-1.678592</td>\n",
       "      <td>1.399942e-103</td>\n",
       "      <td>0</td>\n",
       "    </tr>\n",
       "    <tr>\n",
       "      <th>1</th>\n",
       "      <td>-321.120883</td>\n",
       "      <td>-1.320743</td>\n",
       "      <td>-0.612110</td>\n",
       "      <td>4.873115e-140</td>\n",
       "      <td>0</td>\n",
       "    </tr>\n",
       "    <tr>\n",
       "      <th>2</th>\n",
       "      <td>0.006285</td>\n",
       "      <td>-1.689545</td>\n",
       "      <td>-1.998587</td>\n",
       "      <td>1.191969e-05</td>\n",
       "      <td>0</td>\n",
       "    </tr>\n",
       "    <tr>\n",
       "      <th>3</th>\n",
       "      <td>-56.335960</td>\n",
       "      <td>-0.914205</td>\n",
       "      <td>-0.962069</td>\n",
       "      <td>2.955508e-27</td>\n",
       "      <td>0</td>\n",
       "    </tr>\n",
       "    <tr>\n",
       "      <th>4</th>\n",
       "      <td>-0.033775</td>\n",
       "      <td>0.036999</td>\n",
       "      <td>0.166842</td>\n",
       "      <td>5.272102e-01</td>\n",
       "      <td>0</td>\n",
       "    </tr>\n",
       "  </tbody>\n",
       "</table>\n",
       "</div>"
      ],
      "text/plain": [
       "   blood_pressure    height    weight       log_odds  y\n",
       "0     -230.536312 -1.805133 -1.678592  1.399942e-103  0\n",
       "1     -321.120883 -1.320743 -0.612110  4.873115e-140  0\n",
       "2        0.006285 -1.689545 -1.998587   1.191969e-05  0\n",
       "3      -56.335960 -0.914205 -0.962069   2.955508e-27  0\n",
       "4       -0.033775  0.036999  0.166842   5.272102e-01  0"
      ]
     },
     "execution_count": 5,
     "metadata": {},
     "output_type": "execute_result"
    }
   ],
   "source": [
    "# Computing probability sample from binomial distribution\n",
    "df['y'] = [np.random.binomial(1, p) for p in df.log_odds]\n",
    "\n",
    "df.head()"
   ]
  },
  {
   "cell_type": "code",
   "execution_count": 8,
   "metadata": {},
   "outputs": [
    {
     "data": {
      "text/html": [
       "<div>\n",
       "<style>\n",
       "    .dataframe thead tr:only-child th {\n",
       "        text-align: right;\n",
       "    }\n",
       "\n",
       "    .dataframe thead th {\n",
       "        text-align: left;\n",
       "    }\n",
       "\n",
       "    .dataframe tbody tr th {\n",
       "        vertical-align: top;\n",
       "    }\n",
       "</style>\n",
       "<table border=\"1\" class=\"dataframe\">\n",
       "  <thead>\n",
       "    <tr style=\"text-align: right;\">\n",
       "      <th></th>\n",
       "      <th>Intercept</th>\n",
       "      <th>height</th>\n",
       "      <th>weight</th>\n",
       "      <th>blood_pressure</th>\n",
       "      <th>np.exp(height)</th>\n",
       "      <th>I(blood_pressure ** 2 + weight)</th>\n",
       "    </tr>\n",
       "  </thead>\n",
       "  <tbody>\n",
       "    <tr>\n",
       "      <th>0</th>\n",
       "      <td>1.0</td>\n",
       "      <td>-1.805133</td>\n",
       "      <td>-1.678592</td>\n",
       "      <td>-230.536312</td>\n",
       "      <td>0.164453</td>\n",
       "      <td>53145.312449</td>\n",
       "    </tr>\n",
       "    <tr>\n",
       "      <th>1</th>\n",
       "      <td>1.0</td>\n",
       "      <td>-1.320743</td>\n",
       "      <td>-0.612110</td>\n",
       "      <td>-321.120883</td>\n",
       "      <td>0.266937</td>\n",
       "      <td>103118.009125</td>\n",
       "    </tr>\n",
       "    <tr>\n",
       "      <th>2</th>\n",
       "      <td>1.0</td>\n",
       "      <td>-1.689545</td>\n",
       "      <td>-1.998587</td>\n",
       "      <td>0.006285</td>\n",
       "      <td>0.184604</td>\n",
       "      <td>-1.998547</td>\n",
       "    </tr>\n",
       "    <tr>\n",
       "      <th>3</th>\n",
       "      <td>1.0</td>\n",
       "      <td>-0.914205</td>\n",
       "      <td>-0.962069</td>\n",
       "      <td>-56.335960</td>\n",
       "      <td>0.400835</td>\n",
       "      <td>3172.778273</td>\n",
       "    </tr>\n",
       "    <tr>\n",
       "      <th>4</th>\n",
       "      <td>1.0</td>\n",
       "      <td>0.036999</td>\n",
       "      <td>0.166842</td>\n",
       "      <td>-0.033775</td>\n",
       "      <td>1.037692</td>\n",
       "      <td>0.167983</td>\n",
       "    </tr>\n",
       "  </tbody>\n",
       "</table>\n",
       "</div>"
      ],
      "text/plain": [
       "   Intercept    height    weight  blood_pressure  np.exp(height)  \\\n",
       "0        1.0 -1.805133 -1.678592     -230.536312        0.164453   \n",
       "1        1.0 -1.320743 -0.612110     -321.120883        0.266937   \n",
       "2        1.0 -1.689545 -1.998587        0.006285        0.184604   \n",
       "3        1.0 -0.914205 -0.962069      -56.335960        0.400835   \n",
       "4        1.0  0.036999  0.166842       -0.033775        1.037692   \n",
       "\n",
       "   I(blood_pressure ** 2 + weight)  \n",
       "0                     53145.312449  \n",
       "1                    103118.009125  \n",
       "2                        -1.998547  \n",
       "3                      3172.778273  \n",
       "4                         0.167983  "
      ]
     },
     "execution_count": 8,
     "metadata": {},
     "output_type": "execute_result"
    }
   ],
   "source": [
    "# creating dataframe that encomapasses out input data, model formula and outputs\n",
    "y, x = dmatrices(formula, df, return_type='dataframe')\n",
    "\n",
    "x.head()"
   ]
  },
  {
   "cell_type": "markdown",
   "metadata": {},
   "source": [
    "### Algorithm Setup"
   ]
  },
  {
   "cell_type": "markdown",
   "metadata": {},
   "source": [
    "#### Explanation of a Single Newton Step\n",
    "\n",
    "Newton's method for maximizing / minimizing a given function $f(\\beta)$ iteratively computes the following estimate:\n",
    "\n",
    "$$\n",
    "\\beta^+ = \\beta - Hf(\\beta)^{-1}\\nabla f(\\beta)\n",
    "$$\n",
    "\n",
    "The Hessian of the log-likelihood for logistic regression is given by:\n",
    "\n",
    "hessian of our function = **X => negative tranpose of (N times (p+1))** times **W => (N x N diagional matrix of weights, each is p*(1-p))** times **X** again\n",
    "\n",
    "$$\n",
    "Hf(\\beta) = -X^TWX\n",
    "$$\n",
    "and the gradient is:\n",
    "\n",
    "gradient of our function = **tranpose of X** times (**column vector** - **N vector of probabilities**)\n",
    "\n",
    "$$\n",
    "\\nabla f(\\beta) = X^T(y-p)\n",
    "$$\n",
    "where $$\n",
    "W := \\text{diag}\\left(p(1-p)\\right)\n",
    "$$ and $p$ are the predicted probabilites computed at the current value of $\\beta$."
   ]
  },
  {
   "cell_type": "code",
   "execution_count": 18,
   "metadata": {},
   "outputs": [],
   "source": [
    "def newtons_method_steps(current_beta, X, learning_rate=0.0001):\n",
    "    # create probability matrix, miniminum 2 dimensions, tranpose (flip it)\n",
    "    p = np.array(sigmoid(X.dot(current_beta[:,0])), ndmin=2).T\n",
    "    # create weight matrix\n",
    "    W = np.diag((p * (1-p))[:,0])\n",
    "    # derive the hessian \n",
    "    hessian = X.T.dot(W).dot(X)\n",
    "    # derive the gradient\n",
    "    gradient = X.T.dot(y-p)\n",
    "    \n",
    "    # invert of Hessian\n",
    "    hessian = np.linalg.inv(hessian)\n",
    "    \n",
    "    step = learning_rate * np.matmul(hessian, gradient)\n",
    "    \n",
    "    # updated beta\n",
    "    return current_beta + step"
   ]
  },
  {
   "cell_type": "markdown",
   "metadata": {},
   "source": [
    "### Training"
   ]
  },
  {
   "cell_type": "code",
   "execution_count": 21,
   "metadata": {},
   "outputs": [],
   "source": [
    "def is_coefs_converged(old_beta, new_beta, current_iterations, tolerance = 1e-8):\n",
    "    # calculate the change in the coefficients\n",
    "    coef_change = np.abs(old_beta - new_beta)\n",
    "    \n",
    "    # if change hasn't reached the threshold and we have more iterations to go, keep training\n",
    "    return not (np.any(coef_change > tolerance) & (current_iterations < max_iterations))"
   ]
  },
  {
   "cell_type": "code",
   "execution_count": 23,
   "metadata": {},
   "outputs": [
    {
     "name": "stdout",
     "output_type": "stream",
     "text": [
      "Iterations : 20\n",
      "Beta : [[-4.16126038e-05]\n",
      " [-9.19873632e-04]\n",
      " [ 2.02663642e-03]\n",
      " [ 9.85558530e-06]\n",
      " [-3.32659974e-05]\n",
      " [ 2.32494397e-09]]\n"
     ]
    }
   ],
   "source": [
    "## initial conditions\n",
    "# initial coefficients (weight values), 2 copies, we'll update one\n",
    "beta_old, beta = np.ones((len(x.columns),1)), np.zeros((len(x.columns),1))\n",
    "\n",
    "# num iterations we've done so far\n",
    "iteration_count = 0\n",
    "\n",
    "# have we reached convergence?\n",
    "coefs_converged = False\n",
    "\n",
    "# if we haven't reached convergence... (keep training)\n",
    "while not coefs_converged:\n",
    "    # set the old coefficients to our current\n",
    "    beta_old = beta\n",
    "    \n",
    "    # perform a single step of newton's optimization on our data, set our updated beta values\n",
    "    beta = newtons_method_steps(beta, x)\n",
    "    \n",
    "    # increment the number of iterations\n",
    "    iteration_count += 1\n",
    "    \n",
    "    # check for convergence between our old and new beta values\n",
    "    coefs_converged = is_coefs_converged(beta_old, beta, iteration_count, tol)\n",
    "    \n",
    "print('Iterations : {}'.format(iteration_count))\n",
    "print('Beta : {}'.format(beta))"
   ]
  },
  {
   "cell_type": "code",
   "execution_count": null,
   "metadata": {},
   "outputs": [],
   "source": [
    "def predict(height, weight, blood_pressure):\n",
    "    return "
   ]
  }
 ],
 "metadata": {
  "kernelspec": {
   "display_name": "Python 3",
   "language": "python",
   "name": "python3"
  },
  "language_info": {
   "codemirror_mode": {
    "name": "ipython",
    "version": 3
   },
   "file_extension": ".py",
   "mimetype": "text/x-python",
   "name": "python",
   "nbconvert_exporter": "python",
   "pygments_lexer": "ipython3",
   "version": "3.6.8"
  }
 },
 "nbformat": 4,
 "nbformat_minor": 2
}
